{
 "cells": [
  {
   "cell_type": "markdown",
   "id": "e5902ea2",
   "metadata": {},
   "source": [
    "### 1. Import Libraries"
   ]
  },
  {
   "cell_type": "code",
   "execution_count": null,
   "id": "ce80324a",
   "metadata": {},
   "outputs": [],
   "source": [
    "import numpy as np\n",
    "import pandas as pd\n",
    "from sklearn.preprocessing import OneHotEncoder\n",
    "from sklearn.model_selection import train_test_split\n",
    "\n",
    "import keras\n",
    "from keras.models import Sequential\n",
    "from keras.layers import Dense\n",
    "\n",
    "import tf2onnx\n",
    "import tensorflow as tf\n",
    "import onnxruntime as rt"
   ]
  },
  {
   "cell_type": "markdown",
   "id": "4d8bd833",
   "metadata": {},
   "source": [
    "### 2. Load dataset"
   ]
  },
  {
   "cell_type": "markdown",
   "id": "dac7e101",
   "metadata": {},
   "source": [
    "This is just a dummy example, loading a very simple and basic data."
   ]
  },
  {
   "cell_type": "code",
   "execution_count": null,
   "id": "96963ba3",
   "metadata": {},
   "outputs": [],
   "source": [
    "#Replace it based on cough recording training dataset\n",
    "data_df = pd.read_csv('replace with input data')\n",
    "\n",
    "X = data_df.iloc[:,:20].values \n",
    "y = data_df.iloc[:,20:21].values"
   ]
  },
  {
   "cell_type": "markdown",
   "id": "61f70f35",
   "metadata": {},
   "source": [
    "### 3. Preprocessing"
   ]
  },
  {
   "cell_type": "code",
   "execution_count": null,
   "id": "0a905378",
   "metadata": {},
   "outputs": [],
   "source": [
    "def get_ohe(signal):\n",
    "    ohe = OneHotEncoder()\n",
    "    ohe_array = ohe.fit_transform(signal).toarray()\n",
    "    return ohe_array"
   ]
  },
  {
   "cell_type": "code",
   "execution_count": null,
   "id": "b0562a8f",
   "metadata": {},
   "outputs": [],
   "source": [
    "y = get_ohe(y)"
   ]
  },
  {
   "cell_type": "markdown",
   "id": "eddbe9e4",
   "metadata": {},
   "source": [
    "### 4. Train/Validation split"
   ]
  },
  {
   "cell_type": "code",
   "execution_count": null,
   "id": "0831c5ed",
   "metadata": {},
   "outputs": [],
   "source": [
    "train_X, val_X, train_y, val_y = train_test_split(X, y, test_size = 0.15)"
   ]
  },
  {
   "cell_type": "markdown",
   "id": "94748da7",
   "metadata": {},
   "source": [
    "### 5. Build Model"
   ]
  },
  {
   "cell_type": "code",
   "execution_count": null,
   "id": "b0f706d5",
   "metadata": {},
   "outputs": [],
   "source": [
    "def build_model():\n",
    "    inputs = keras.layers.Input(shape=(20))\n",
    "    \n",
    "    x = keras.layers.Dense(32, activation=\"relu\", name=\"dense_1\")(inputs)\n",
    "    x = keras.layers.Dense(16, activation=\"relu\", name=\"dense_2\")(x)\n",
    "    output = keras.layers.Dense(4, activation=\"softmax\", name=\"output\")(x)\n",
    "    \n",
    "    model = keras.Model(inputs=inputs, outputs=output, name=\"tb_recognition\")\n",
    "    return model"
   ]
  },
  {
   "cell_type": "code",
   "execution_count": null,
   "id": "ddf90542",
   "metadata": {},
   "outputs": [],
   "source": [
    "model = build_model()"
   ]
  },
  {
   "cell_type": "markdown",
   "id": "dfa4a67f",
   "metadata": {},
   "source": [
    "#### 5.1 Compile"
   ]
  },
  {
   "cell_type": "code",
   "execution_count": null,
   "id": "84aee44d",
   "metadata": {},
   "outputs": [],
   "source": [
    "model.compile(loss='categorical_crossentropy', optimizer='adam', metrics=['accuracy'])"
   ]
  },
  {
   "cell_type": "markdown",
   "id": "cc62bda8",
   "metadata": {},
   "source": [
    "#### 5.2 Checkpoints"
   ]
  },
  {
   "cell_type": "code",
   "execution_count": null,
   "id": "ae3d1ef4",
   "metadata": {},
   "outputs": [],
   "source": [
    "model_checkpoint = keras.callbacks.ModelCheckpoint(\"tb_cough_detection.h5\", \n",
    "                                                      monitor=\"val_accuracy\", \n",
    "                                                      save_best_only=True)\n",
    "callbacks = [model_checkpoint]"
   ]
  },
  {
   "cell_type": "markdown",
   "id": "7acc9265",
   "metadata": {},
   "source": [
    "#### 5.2 Fit model"
   ]
  },
  {
   "cell_type": "code",
   "execution_count": null,
   "id": "e8882296",
   "metadata": {},
   "outputs": [],
   "source": [
    "history = model.fit(train_X, train_y, \n",
    "                    validation_data = (val_X, val_y), \n",
    "                    epochs=5, batch_size=64, \n",
    "                    callbacks = callbacks)"
   ]
  },
  {
   "cell_type": "markdown",
   "id": "65df8a0d",
   "metadata": {},
   "source": [
    "### 6. Convert Keras to ONNX "
   ]
  },
  {
   "cell_type": "markdown",
   "id": "c5154682",
   "metadata": {},
   "source": [
    "Converting Keras trained model into ONNX format model"
   ]
  },
  {
   "cell_type": "code",
   "execution_count": null,
   "id": "3e6d4f44",
   "metadata": {},
   "outputs": [],
   "source": [
    "def keras_2_onnx():\n",
    "    out_path = model.name + \".onnx\"\n",
    "    spec = (tf.TensorSpec((None, 20), tf.float32, name=\"input\"),)\n",
    "    m_proto, _ = tf2onnx.convert.from_keras(model, input_signature=spec, output_path=out_path)\n",
    "    \n",
    "    out_name = [n.name for n in m_proto.graph.output]\n",
    "    return out_name"
   ]
  },
  {
   "cell_type": "code",
   "execution_count": null,
   "id": "0504ea2c",
   "metadata": {},
   "outputs": [],
   "source": [
    "out_name = keras_2_onnx()"
   ]
  },
  {
   "cell_type": "markdown",
   "id": "5d534353",
   "metadata": {},
   "source": [
    "### 7. Prediction on ONNX model"
   ]
  },
  {
   "cell_type": "markdown",
   "id": "e6c85b94",
   "metadata": {},
   "source": [
    "Demo example to make prediction using ONNX format model"
   ]
  },
  {
   "cell_type": "code",
   "execution_count": null,
   "id": "17594ac4",
   "metadata": {},
   "outputs": [],
   "source": [
    "def get_prediction(val_X):\n",
    "    model_inference = rt.InferenceSession('tb_recognition.onnx')\n",
    "    \n",
    "    input_name = model_inference.get_inputs()[0].name\n",
    "    label_name = model_inference.get_outputs()[0].name\n",
    "    \n",
    "    onnx_pred = model_inference.run([label_name], {input_name: val_X.astype(np.float32)})\n",
    "    pred = np.argmax(onnx_pred[0], axis=1)\n",
    "    return pred"
   ]
  },
  {
   "cell_type": "code",
   "execution_count": null,
   "id": "f5869d3d",
   "metadata": {},
   "outputs": [],
   "source": [
    "pred = get_prediction(val_X)"
   ]
  },
  {
   "cell_type": "code",
   "execution_count": null,
   "id": "999ccaf0",
   "metadata": {},
   "outputs": [],
   "source": []
  }
 ],
 "metadata": {
  "kernelspec": {
   "display_name": "Python 3 (ipykernel)",
   "language": "python",
   "name": "python3"
  },
  "language_info": {
   "codemirror_mode": {
    "name": "ipython",
    "version": 3
   },
   "file_extension": ".py",
   "mimetype": "text/x-python",
   "name": "python",
   "nbconvert_exporter": "python",
   "pygments_lexer": "ipython3",
   "version": "3.9.5"
  }
 },
 "nbformat": 4,
 "nbformat_minor": 5
}
